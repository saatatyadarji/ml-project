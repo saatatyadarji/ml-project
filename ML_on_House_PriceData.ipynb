{
 "cells": [
  {
   "cell_type": "markdown",
   "id": "81f29870-2e5b-4da9-b8d2-64d2629f36e7",
   "metadata": {},
   "source": [
    "# It is a regression problem "
   ]
  },
  {
   "cell_type": "markdown",
   "id": "93124c69-eafc-4007-91fa-59f0ba13fb3c",
   "metadata": {},
   "source": [
    "## We are doing the machine learning on house price dataset"
   ]
  },
  {
   "cell_type": "markdown",
   "id": "899db580-1b0d-4b7f-ad89-38b80706db29",
   "metadata": {},
   "source": [
    "<table align=\"center\" width=100%>\n",
    "    <tr>\n",
    "        </td>\n",
    "            </td>\n",
    "        </td>\n",
    "        <td>\n",
    "            <div align=\"center\">\n",
    "                <font color=\"#21618C\" size=8px>\n",
    "                    <b>Regression modelling on House Price Data\n",
    "                    </b>\n",
    "                </font>\n",
    "            </div>\n",
    "        </td>\n",
    "    </tr>\n",
    "</table>"
   ]
  },
  {
   "cell_type": "markdown",
   "id": "b76bb92d-ea96-48ce-9501-100d7685572b",
   "metadata": {},
   "source": [
    "# Problem Statement\n",
    "\n",
    "This dataset is created for the prediction on House Prices from an Indian perspective towns. The dataset contains various features that are important during the application for the selling the Houses. The predicted output obtained from the classification algorithm gives a fair idea about the chances of a Houses Sold. "
   ]
  },
  {
   "cell_type": "code",
   "execution_count": 1,
   "id": "b5779098-c207-4018-a17d-8628ae8e8d10",
   "metadata": {},
   "outputs": [],
   "source": [
    "# import 'Pandas'\n",
    "# It is utilised to format the data structure. It means it can convert any data structure into pandas data frame.\n",
    "import pandas as pd\n",
    "\n",
    "# import 'numpy'\n",
    "# It is used to find statistical summary.\n",
    "import numpy as np\n",
    "\n",
    "# import subpackages of Matplotlib\n",
    "import matplotlib.pyplot as plt\n",
    "from matplotlib.colors import ListedColormap\n",
    "\n",
    "# import 'seaborn'\n",
    "import seaborn as sns"
   ]
  },
  {
   "cell_type": "code",
   "execution_count": 5,
   "id": "485f6441-e763-4068-97cb-a1ecc51f59bd",
   "metadata": {},
   "outputs": [
    {
     "data": {
      "text/html": [
       "<div>\n",
       "<style scoped>\n",
       "    .dataframe tbody tr th:only-of-type {\n",
       "        vertical-align: middle;\n",
       "    }\n",
       "\n",
       "    .dataframe tbody tr th {\n",
       "        vertical-align: top;\n",
       "    }\n",
       "\n",
       "    .dataframe thead th {\n",
       "        text-align: right;\n",
       "    }\n",
       "</style>\n",
       "<table border=\"1\" class=\"dataframe\">\n",
       "  <thead>\n",
       "    <tr style=\"text-align: right;\">\n",
       "      <th></th>\n",
       "      <th>price</th>\n",
       "      <th>resid_area</th>\n",
       "      <th>air_qual</th>\n",
       "      <th>room_num</th>\n",
       "      <th>age</th>\n",
       "      <th>distance</th>\n",
       "      <th>teachers</th>\n",
       "      <th>poor_prop</th>\n",
       "      <th>airport</th>\n",
       "      <th>n_hos_beds</th>\n",
       "      <th>n_hot_rooms</th>\n",
       "      <th>waterbody</th>\n",
       "      <th>rainfall</th>\n",
       "      <th>bus_ter</th>\n",
       "      <th>parks</th>\n",
       "      <th>Sold</th>\n",
       "    </tr>\n",
       "  </thead>\n",
       "  <tbody>\n",
       "    <tr>\n",
       "      <th>0</th>\n",
       "      <td>24.0</td>\n",
       "      <td>32.31</td>\n",
       "      <td>0.538</td>\n",
       "      <td>6.575</td>\n",
       "      <td>65.2</td>\n",
       "      <td>4.35</td>\n",
       "      <td>24.7</td>\n",
       "      <td>4.98</td>\n",
       "      <td>YES</td>\n",
       "      <td>5.480</td>\n",
       "      <td>11.1920</td>\n",
       "      <td>River</td>\n",
       "      <td>23</td>\n",
       "      <td>YES</td>\n",
       "      <td>0.049347</td>\n",
       "      <td>0</td>\n",
       "    </tr>\n",
       "    <tr>\n",
       "      <th>1</th>\n",
       "      <td>21.6</td>\n",
       "      <td>37.07</td>\n",
       "      <td>0.469</td>\n",
       "      <td>6.421</td>\n",
       "      <td>78.9</td>\n",
       "      <td>4.99</td>\n",
       "      <td>22.2</td>\n",
       "      <td>9.14</td>\n",
       "      <td>NO</td>\n",
       "      <td>7.332</td>\n",
       "      <td>12.1728</td>\n",
       "      <td>Lake</td>\n",
       "      <td>42</td>\n",
       "      <td>YES</td>\n",
       "      <td>0.046146</td>\n",
       "      <td>1</td>\n",
       "    </tr>\n",
       "    <tr>\n",
       "      <th>2</th>\n",
       "      <td>34.7</td>\n",
       "      <td>37.07</td>\n",
       "      <td>0.469</td>\n",
       "      <td>7.185</td>\n",
       "      <td>61.1</td>\n",
       "      <td>5.03</td>\n",
       "      <td>22.2</td>\n",
       "      <td>4.03</td>\n",
       "      <td>NO</td>\n",
       "      <td>7.394</td>\n",
       "      <td>101.1200</td>\n",
       "      <td>NaN</td>\n",
       "      <td>38</td>\n",
       "      <td>YES</td>\n",
       "      <td>0.045764</td>\n",
       "      <td>0</td>\n",
       "    </tr>\n",
       "    <tr>\n",
       "      <th>3</th>\n",
       "      <td>33.4</td>\n",
       "      <td>32.18</td>\n",
       "      <td>0.458</td>\n",
       "      <td>6.998</td>\n",
       "      <td>45.8</td>\n",
       "      <td>6.21</td>\n",
       "      <td>21.3</td>\n",
       "      <td>2.94</td>\n",
       "      <td>YES</td>\n",
       "      <td>9.268</td>\n",
       "      <td>11.2672</td>\n",
       "      <td>Lake</td>\n",
       "      <td>45</td>\n",
       "      <td>YES</td>\n",
       "      <td>0.047151</td>\n",
       "      <td>0</td>\n",
       "    </tr>\n",
       "    <tr>\n",
       "      <th>4</th>\n",
       "      <td>36.2</td>\n",
       "      <td>32.18</td>\n",
       "      <td>0.458</td>\n",
       "      <td>7.147</td>\n",
       "      <td>54.2</td>\n",
       "      <td>6.16</td>\n",
       "      <td>21.3</td>\n",
       "      <td>5.33</td>\n",
       "      <td>NO</td>\n",
       "      <td>8.824</td>\n",
       "      <td>11.2896</td>\n",
       "      <td>Lake</td>\n",
       "      <td>55</td>\n",
       "      <td>YES</td>\n",
       "      <td>0.039474</td>\n",
       "      <td>0</td>\n",
       "    </tr>\n",
       "  </tbody>\n",
       "</table>\n",
       "</div>"
      ],
      "text/plain": [
       "   price  resid_area  air_qual  room_num   age  distance  teachers  poor_prop  \\\n",
       "0   24.0       32.31     0.538     6.575  65.2      4.35      24.7       4.98   \n",
       "1   21.6       37.07     0.469     6.421  78.9      4.99      22.2       9.14   \n",
       "2   34.7       37.07     0.469     7.185  61.1      5.03      22.2       4.03   \n",
       "3   33.4       32.18     0.458     6.998  45.8      6.21      21.3       2.94   \n",
       "4   36.2       32.18     0.458     7.147  54.2      6.16      21.3       5.33   \n",
       "\n",
       "  airport  n_hos_beds  n_hot_rooms waterbody  rainfall bus_ter     parks  Sold  \n",
       "0     YES       5.480      11.1920     River        23     YES  0.049347     0  \n",
       "1      NO       7.332      12.1728      Lake        42     YES  0.046146     1  \n",
       "2      NO       7.394     101.1200       NaN        38     YES  0.045764     0  \n",
       "3     YES       9.268      11.2672      Lake        45     YES  0.047151     0  \n",
       "4      NO       8.824      11.2896      Lake        55     YES  0.039474     0  "
      ]
     },
     "execution_count": 5,
     "metadata": {},
     "output_type": "execute_result"
    }
   ],
   "source": [
    "# Load the data and name it df_house_price\n",
    "# Load the csv file\n",
    "# store the data in 'df_houseprice'\n",
    "df_houseprice = pd.read_csv(\"C:\\\\Users\\\\HP\\\\Downloads\\\\House_Price1.csv\")\n",
    "\n",
    "# display first five observation using head()\n",
    "df_houseprice.head()"
   ]
  },
  {
   "cell_type": "markdown",
   "id": "dff33b0b-7bf4-4323-8dc5-5d2353fdca3c",
   "metadata": {},
   "source": [
    "## Data Overview"
   ]
  },
  {
   "cell_type": "code",
   "execution_count": 12,
   "id": "ab634fa6-81fd-4f47-85f6-e5bfd5d562b3",
   "metadata": {},
   "outputs": [
    {
     "data": {
      "text/plain": [
       "Index(['price', 'resid_area', 'air_qual', 'room_num', 'age', 'distance',\n",
       "       'teachers', 'poor_prop', 'airport', 'n_hos_beds', 'n_hot_rooms',\n",
       "       'waterbody', 'rainfall', 'bus_ter', 'parks', 'Sold'],\n",
       "      dtype='object')"
      ]
     },
     "execution_count": 12,
     "metadata": {},
     "output_type": "execute_result"
    }
   ],
   "source": [
    "# Name the Columns \n",
    "df_houseprice.columns"
   ]
  },
  {
   "cell_type": "markdown",
   "id": "a866b60e-d17f-4e56-9468-b90e58b1c17d",
   "metadata": {},
   "source": [
    "**Interpretation**\n",
    "\n",
    " - `price`:Price of the House.\n",
    " - `resid_area`:Residential Area where my house is located."
   ]
  },
  {
   "cell_type": "code",
   "execution_count": 15,
   "id": "0cdc368a-f745-4006-bd9b-f3acc2ccb8ef",
   "metadata": {},
   "outputs": [
    {
     "name": "stdout",
     "output_type": "stream",
     "text": [
      "<class 'pandas.core.frame.DataFrame'>\n",
      "RangeIndex: 506 entries, 0 to 505\n",
      "Data columns (total 16 columns):\n",
      " #   Column       Non-Null Count  Dtype  \n",
      "---  ------       --------------  -----  \n",
      " 0   price        506 non-null    float64\n",
      " 1   resid_area   506 non-null    float64\n",
      " 2   air_qual     506 non-null    float64\n",
      " 3   room_num     506 non-null    float64\n",
      " 4   age          506 non-null    float64\n",
      " 5   distance     506 non-null    float64\n",
      " 6   teachers     506 non-null    float64\n",
      " 7   poor_prop    506 non-null    float64\n",
      " 8   airport      506 non-null    object \n",
      " 9   n_hos_beds   498 non-null    float64\n",
      " 10  n_hot_rooms  506 non-null    float64\n",
      " 11  waterbody    351 non-null    object \n",
      " 12  rainfall     506 non-null    int64  \n",
      " 13  bus_ter      506 non-null    object \n",
      " 14  parks        506 non-null    float64\n",
      " 15  Sold         506 non-null    int64  \n",
      "dtypes: float64(11), int64(2), object(3)\n",
      "memory usage: 63.4+ KB\n"
     ]
    }
   ],
   "source": [
    "# Basic Info of the Data Set\n",
    "df_houseprice.info()"
   ]
  },
  {
   "cell_type": "markdown",
   "id": "c4ad529c-1da3-4ead-87db-e2ae7df2d47a",
   "metadata": {},
   "source": [
    "**Interpretation**\n",
    "\n",
    " - we have 13 numerical column and 3 categorial column\n",
    " - we have null values in the data\n",
    " - we have total 16 columns in the data"
   ]
  },
  {
   "cell_type": "code",
   "execution_count": 18,
   "id": "e9011173-a2e5-48c2-bb89-2e8ea4f3a450",
   "metadata": {},
   "outputs": [
    {
     "data": {
      "text/plain": [
       "(506, 16)"
      ]
     },
     "execution_count": 18,
     "metadata": {},
     "output_type": "execute_result"
    }
   ],
   "source": [
    "# Shape of the Data\n",
    "df_houseprice.shape"
   ]
  },
  {
   "cell_type": "markdown",
   "id": "952947cb-8b91-428f-8805-5220ca5caeba",
   "metadata": {},
   "source": [
    "**Interpretation**\n",
    " - We have total 16 columns.\n",
    " - We have 506 observations."
   ]
  },
  {
   "cell_type": "code",
   "execution_count": 23,
   "id": "45b1c0f4-847b-4daa-be17-1434942dc00e",
   "metadata": {},
   "outputs": [
    {
     "data": {
      "text/html": [
       "<div>\n",
       "<style scoped>\n",
       "    .dataframe tbody tr th:only-of-type {\n",
       "        vertical-align: middle;\n",
       "    }\n",
       "\n",
       "    .dataframe tbody tr th {\n",
       "        vertical-align: top;\n",
       "    }\n",
       "\n",
       "    .dataframe thead th {\n",
       "        text-align: right;\n",
       "    }\n",
       "</style>\n",
       "<table border=\"1\" class=\"dataframe\">\n",
       "  <thead>\n",
       "    <tr style=\"text-align: right;\">\n",
       "      <th></th>\n",
       "      <th>count</th>\n",
       "      <th>mean</th>\n",
       "      <th>std</th>\n",
       "      <th>min</th>\n",
       "      <th>25%</th>\n",
       "      <th>50%</th>\n",
       "      <th>75%</th>\n",
       "      <th>max</th>\n",
       "    </tr>\n",
       "  </thead>\n",
       "  <tbody>\n",
       "    <tr>\n",
       "      <th>price</th>\n",
       "      <td>506.0</td>\n",
       "      <td>22.528854</td>\n",
       "      <td>9.182176</td>\n",
       "      <td>5.000000</td>\n",
       "      <td>17.025000</td>\n",
       "      <td>21.200000</td>\n",
       "      <td>25.000000</td>\n",
       "      <td>50.000000</td>\n",
       "    </tr>\n",
       "    <tr>\n",
       "      <th>resid_area</th>\n",
       "      <td>506.0</td>\n",
       "      <td>41.136779</td>\n",
       "      <td>6.860353</td>\n",
       "      <td>30.460000</td>\n",
       "      <td>35.190000</td>\n",
       "      <td>39.690000</td>\n",
       "      <td>48.100000</td>\n",
       "      <td>57.740000</td>\n",
       "    </tr>\n",
       "    <tr>\n",
       "      <th>air_qual</th>\n",
       "      <td>506.0</td>\n",
       "      <td>0.554695</td>\n",
       "      <td>0.115878</td>\n",
       "      <td>0.385000</td>\n",
       "      <td>0.449000</td>\n",
       "      <td>0.538000</td>\n",
       "      <td>0.624000</td>\n",
       "      <td>0.871000</td>\n",
       "    </tr>\n",
       "    <tr>\n",
       "      <th>room_num</th>\n",
       "      <td>506.0</td>\n",
       "      <td>6.284634</td>\n",
       "      <td>0.702617</td>\n",
       "      <td>3.561000</td>\n",
       "      <td>5.885500</td>\n",
       "      <td>6.208500</td>\n",
       "      <td>6.623500</td>\n",
       "      <td>8.780000</td>\n",
       "    </tr>\n",
       "    <tr>\n",
       "      <th>age</th>\n",
       "      <td>506.0</td>\n",
       "      <td>68.574901</td>\n",
       "      <td>28.148861</td>\n",
       "      <td>2.900000</td>\n",
       "      <td>45.025000</td>\n",
       "      <td>77.500000</td>\n",
       "      <td>94.075000</td>\n",
       "      <td>100.000000</td>\n",
       "    </tr>\n",
       "    <tr>\n",
       "      <th>distance</th>\n",
       "      <td>506.0</td>\n",
       "      <td>3.971996</td>\n",
       "      <td>2.108532</td>\n",
       "      <td>1.130000</td>\n",
       "      <td>2.270000</td>\n",
       "      <td>3.385000</td>\n",
       "      <td>5.367500</td>\n",
       "      <td>12.320000</td>\n",
       "    </tr>\n",
       "    <tr>\n",
       "      <th>teachers</th>\n",
       "      <td>506.0</td>\n",
       "      <td>21.544466</td>\n",
       "      <td>2.164946</td>\n",
       "      <td>18.000000</td>\n",
       "      <td>19.800000</td>\n",
       "      <td>20.950000</td>\n",
       "      <td>22.600000</td>\n",
       "      <td>27.400000</td>\n",
       "    </tr>\n",
       "    <tr>\n",
       "      <th>poor_prop</th>\n",
       "      <td>506.0</td>\n",
       "      <td>12.653063</td>\n",
       "      <td>7.141062</td>\n",
       "      <td>1.730000</td>\n",
       "      <td>6.950000</td>\n",
       "      <td>11.360000</td>\n",
       "      <td>16.955000</td>\n",
       "      <td>37.970000</td>\n",
       "    </tr>\n",
       "    <tr>\n",
       "      <th>n_hos_beds</th>\n",
       "      <td>498.0</td>\n",
       "      <td>7.899767</td>\n",
       "      <td>1.476683</td>\n",
       "      <td>5.268000</td>\n",
       "      <td>6.634500</td>\n",
       "      <td>7.999000</td>\n",
       "      <td>9.088000</td>\n",
       "      <td>10.876000</td>\n",
       "    </tr>\n",
       "    <tr>\n",
       "      <th>n_hot_rooms</th>\n",
       "      <td>506.0</td>\n",
       "      <td>13.041605</td>\n",
       "      <td>5.238957</td>\n",
       "      <td>10.057600</td>\n",
       "      <td>11.189800</td>\n",
       "      <td>12.720000</td>\n",
       "      <td>14.170800</td>\n",
       "      <td>101.120000</td>\n",
       "    </tr>\n",
       "    <tr>\n",
       "      <th>rainfall</th>\n",
       "      <td>506.0</td>\n",
       "      <td>39.181818</td>\n",
       "      <td>12.513697</td>\n",
       "      <td>3.000000</td>\n",
       "      <td>28.000000</td>\n",
       "      <td>39.000000</td>\n",
       "      <td>50.000000</td>\n",
       "      <td>60.000000</td>\n",
       "    </tr>\n",
       "    <tr>\n",
       "      <th>parks</th>\n",
       "      <td>506.0</td>\n",
       "      <td>0.054454</td>\n",
       "      <td>0.010632</td>\n",
       "      <td>0.033292</td>\n",
       "      <td>0.046464</td>\n",
       "      <td>0.053507</td>\n",
       "      <td>0.061397</td>\n",
       "      <td>0.086711</td>\n",
       "    </tr>\n",
       "    <tr>\n",
       "      <th>Sold</th>\n",
       "      <td>506.0</td>\n",
       "      <td>0.454545</td>\n",
       "      <td>0.498422</td>\n",
       "      <td>0.000000</td>\n",
       "      <td>0.000000</td>\n",
       "      <td>0.000000</td>\n",
       "      <td>1.000000</td>\n",
       "      <td>1.000000</td>\n",
       "    </tr>\n",
       "  </tbody>\n",
       "</table>\n",
       "</div>"
      ],
      "text/plain": [
       "             count       mean        std        min        25%        50%  \\\n",
       "price        506.0  22.528854   9.182176   5.000000  17.025000  21.200000   \n",
       "resid_area   506.0  41.136779   6.860353  30.460000  35.190000  39.690000   \n",
       "air_qual     506.0   0.554695   0.115878   0.385000   0.449000   0.538000   \n",
       "room_num     506.0   6.284634   0.702617   3.561000   5.885500   6.208500   \n",
       "age          506.0  68.574901  28.148861   2.900000  45.025000  77.500000   \n",
       "distance     506.0   3.971996   2.108532   1.130000   2.270000   3.385000   \n",
       "teachers     506.0  21.544466   2.164946  18.000000  19.800000  20.950000   \n",
       "poor_prop    506.0  12.653063   7.141062   1.730000   6.950000  11.360000   \n",
       "n_hos_beds   498.0   7.899767   1.476683   5.268000   6.634500   7.999000   \n",
       "n_hot_rooms  506.0  13.041605   5.238957  10.057600  11.189800  12.720000   \n",
       "rainfall     506.0  39.181818  12.513697   3.000000  28.000000  39.000000   \n",
       "parks        506.0   0.054454   0.010632   0.033292   0.046464   0.053507   \n",
       "Sold         506.0   0.454545   0.498422   0.000000   0.000000   0.000000   \n",
       "\n",
       "                   75%         max  \n",
       "price        25.000000   50.000000  \n",
       "resid_area   48.100000   57.740000  \n",
       "air_qual      0.624000    0.871000  \n",
       "room_num      6.623500    8.780000  \n",
       "age          94.075000  100.000000  \n",
       "distance      5.367500   12.320000  \n",
       "teachers     22.600000   27.400000  \n",
       "poor_prop    16.955000   37.970000  \n",
       "n_hos_beds    9.088000   10.876000  \n",
       "n_hot_rooms  14.170800  101.120000  \n",
       "rainfall     50.000000   60.000000  \n",
       "parks         0.061397    0.086711  \n",
       "Sold          1.000000    1.000000  "
      ]
     },
     "execution_count": 23,
     "metadata": {},
     "output_type": "execute_result"
    }
   ],
   "source": [
    "# Summarize the basic statistics of Data\n",
    "df_houseprice.describe().T"
   ]
  },
  {
   "cell_type": "markdown",
   "id": "acb07cd8-ce0f-4ad0-b887-208f77ba0f63",
   "metadata": {},
   "source": [
    "**Interpretation**\n",
    " - We have outliers in the data, most of the outliers are in age column."
   ]
  },
  {
   "cell_type": "markdown",
   "id": "d17f3458-0af2-45f6-9332-1261cefc7963",
   "metadata": {},
   "source": [
    "## Data Preprocessing"
   ]
  },
  {
   "cell_type": "markdown",
   "id": "db3af19a-ac59-4803-9c38-cbf3c82d97b3",
   "metadata": {},
   "source": [
    "### a. Data Cleaning"
   ]
  },
  {
   "cell_type": "code",
   "execution_count": 32,
   "id": "0ee18700-f347-4377-a06d-47989a3e1305",
   "metadata": {},
   "outputs": [
    {
     "data": {
      "text/html": [
       "<div>\n",
       "<style scoped>\n",
       "    .dataframe tbody tr th:only-of-type {\n",
       "        vertical-align: middle;\n",
       "    }\n",
       "\n",
       "    .dataframe tbody tr th {\n",
       "        vertical-align: top;\n",
       "    }\n",
       "\n",
       "    .dataframe thead th {\n",
       "        text-align: right;\n",
       "    }\n",
       "</style>\n",
       "<table border=\"1\" class=\"dataframe\">\n",
       "  <thead>\n",
       "    <tr style=\"text-align: right;\">\n",
       "      <th></th>\n",
       "      <th>price</th>\n",
       "      <th>resid_area</th>\n",
       "      <th>air_qual</th>\n",
       "      <th>room_num</th>\n",
       "      <th>age</th>\n",
       "      <th>distance</th>\n",
       "      <th>teachers</th>\n",
       "      <th>poor_prop</th>\n",
       "      <th>airport</th>\n",
       "      <th>n_hos_beds</th>\n",
       "      <th>n_hot_rooms</th>\n",
       "      <th>waterbody</th>\n",
       "      <th>rainfall</th>\n",
       "      <th>bus_ter</th>\n",
       "      <th>parks</th>\n",
       "      <th>Sold</th>\n",
       "    </tr>\n",
       "  </thead>\n",
       "  <tbody>\n",
       "    <tr>\n",
       "      <th>0</th>\n",
       "      <td>24.0</td>\n",
       "      <td>32.31</td>\n",
       "      <td>0.538</td>\n",
       "      <td>6.575</td>\n",
       "      <td>65.2</td>\n",
       "      <td>4.35</td>\n",
       "      <td>24.7</td>\n",
       "      <td>4.98</td>\n",
       "      <td>YES</td>\n",
       "      <td>5.480</td>\n",
       "      <td>11.1920</td>\n",
       "      <td>River</td>\n",
       "      <td>23</td>\n",
       "      <td>YES</td>\n",
       "      <td>0.049347</td>\n",
       "      <td>0</td>\n",
       "    </tr>\n",
       "    <tr>\n",
       "      <th>1</th>\n",
       "      <td>21.6</td>\n",
       "      <td>37.07</td>\n",
       "      <td>0.469</td>\n",
       "      <td>6.421</td>\n",
       "      <td>78.9</td>\n",
       "      <td>4.99</td>\n",
       "      <td>22.2</td>\n",
       "      <td>9.14</td>\n",
       "      <td>NO</td>\n",
       "      <td>7.332</td>\n",
       "      <td>12.1728</td>\n",
       "      <td>Lake</td>\n",
       "      <td>42</td>\n",
       "      <td>YES</td>\n",
       "      <td>0.046146</td>\n",
       "      <td>1</td>\n",
       "    </tr>\n",
       "    <tr>\n",
       "      <th>2</th>\n",
       "      <td>34.7</td>\n",
       "      <td>37.07</td>\n",
       "      <td>0.469</td>\n",
       "      <td>7.185</td>\n",
       "      <td>61.1</td>\n",
       "      <td>5.03</td>\n",
       "      <td>22.2</td>\n",
       "      <td>4.03</td>\n",
       "      <td>NO</td>\n",
       "      <td>7.394</td>\n",
       "      <td>101.1200</td>\n",
       "      <td>NaN</td>\n",
       "      <td>38</td>\n",
       "      <td>YES</td>\n",
       "      <td>0.045764</td>\n",
       "      <td>0</td>\n",
       "    </tr>\n",
       "    <tr>\n",
       "      <th>3</th>\n",
       "      <td>33.4</td>\n",
       "      <td>32.18</td>\n",
       "      <td>0.458</td>\n",
       "      <td>6.998</td>\n",
       "      <td>45.8</td>\n",
       "      <td>6.21</td>\n",
       "      <td>21.3</td>\n",
       "      <td>2.94</td>\n",
       "      <td>YES</td>\n",
       "      <td>9.268</td>\n",
       "      <td>11.2672</td>\n",
       "      <td>Lake</td>\n",
       "      <td>45</td>\n",
       "      <td>YES</td>\n",
       "      <td>0.047151</td>\n",
       "      <td>0</td>\n",
       "    </tr>\n",
       "    <tr>\n",
       "      <th>4</th>\n",
       "      <td>36.2</td>\n",
       "      <td>32.18</td>\n",
       "      <td>0.458</td>\n",
       "      <td>7.147</td>\n",
       "      <td>54.2</td>\n",
       "      <td>6.16</td>\n",
       "      <td>21.3</td>\n",
       "      <td>5.33</td>\n",
       "      <td>NO</td>\n",
       "      <td>8.824</td>\n",
       "      <td>11.2896</td>\n",
       "      <td>Lake</td>\n",
       "      <td>55</td>\n",
       "      <td>YES</td>\n",
       "      <td>0.039474</td>\n",
       "      <td>0</td>\n",
       "    </tr>\n",
       "  </tbody>\n",
       "</table>\n",
       "</div>"
      ],
      "text/plain": [
       "   price  resid_area  air_qual  room_num   age  distance  teachers  poor_prop  \\\n",
       "0   24.0       32.31     0.538     6.575  65.2      4.35      24.7       4.98   \n",
       "1   21.6       37.07     0.469     6.421  78.9      4.99      22.2       9.14   \n",
       "2   34.7       37.07     0.469     7.185  61.1      5.03      22.2       4.03   \n",
       "3   33.4       32.18     0.458     6.998  45.8      6.21      21.3       2.94   \n",
       "4   36.2       32.18     0.458     7.147  54.2      6.16      21.3       5.33   \n",
       "\n",
       "  airport  n_hos_beds  n_hot_rooms waterbody  rainfall bus_ter     parks  Sold  \n",
       "0     YES       5.480      11.1920     River        23     YES  0.049347     0  \n",
       "1      NO       7.332      12.1728      Lake        42     YES  0.046146     1  \n",
       "2      NO       7.394     101.1200       NaN        38     YES  0.045764     0  \n",
       "3     YES       9.268      11.2672      Lake        45     YES  0.047151     0  \n",
       "4      NO       8.824      11.2896      Lake        55     YES  0.039474     0  "
      ]
     },
     "execution_count": 32,
     "metadata": {},
     "output_type": "execute_result"
    }
   ],
   "source": [
    "# Show the first five observations\n",
    "df_houseprice.head()"
   ]
  },
  {
   "cell_type": "code",
   "execution_count": 34,
   "id": "86af7f02-7944-4bab-90e8-865b4783cc49",
   "metadata": {},
   "outputs": [
    {
     "data": {
      "text/plain": [
       "Index(['price', 'resid_area', 'air_qual', 'room_num', 'age', 'distance',\n",
       "       'teachers', 'poor_prop', 'airport', 'n_hos_beds', 'n_hot_rooms',\n",
       "       'waterbody', 'rainfall', 'bus_ter', 'parks', 'Sold'],\n",
       "      dtype='object')"
      ]
     },
     "execution_count": 34,
     "metadata": {},
     "output_type": "execute_result"
    }
   ],
   "source": [
    "# Rename the Columns\n",
    "# Step 1 : Show the column names \n",
    "df_houseprice.columns"
   ]
  },
  {
   "cell_type": "code",
   "execution_count": 38,
   "id": "33a2ae29-cf00-43ea-a5cd-2c70501e3631",
   "metadata": {},
   "outputs": [],
   "source": [
    "# Step 2 : Allocate new column names to old column names\n",
    "# Make the dictionary{'Old column name':'New column name'}\n",
    "d1={'price':'Price',\n",
    "    'resid_area':'Residential_Area',\n",
    "    'air_qual':'Air_Quality',\n",
    "    'room_num':'Room_Numbers',\n",
    "    'age':'Age',\n",
    "    'distance':'Distance',\n",
    "    'teachers':'Teachers',\n",
    "    'poor_prop':'Proportion_Of_Poor_Population',\n",
    "    'airport':'Airport',\n",
    "    'n_hos_beds':'Number_Of_Hospital_Beds',\n",
    "    'n_hot_rooms':'Number_Of_Hotel_Rooms',\n",
    "    'waterbody':'Waterbody',\n",
    "    'rainfall':'Rainfall',\n",
    "    'bus_ter':'Bus_Terminal',\n",
    "    'parks':'Parks',\n",
    "    'Sold':'Sold'}"
   ]
  },
  {
   "cell_type": "code",
   "execution_count": 42,
   "id": "73c4577b-1cb8-4382-a9e9-fc8ce4abdbb1",
   "metadata": {},
   "outputs": [],
   "source": [
    "df_houseprice = df_houseprice.rename(columns=d1)"
   ]
  },
  {
   "cell_type": "code",
   "execution_count": 44,
   "id": "164a1cca-427b-49c0-9636-39b17613390b",
   "metadata": {},
   "outputs": [
    {
     "data": {
      "text/plain": [
       "Index(['Price', 'Residential_Area', 'Air_Quality', 'Room_Numbers', 'Age',\n",
       "       'Distance', 'Teachers', 'Proportion_Of_Poor_Population', 'Airport',\n",
       "       'Number_Of_Hospital_Beds', 'Number_Of_Hotel_Rooms', 'Waterbody',\n",
       "       'Rainfall', 'Bus_Terminal', 'Parks', 'Sold'],\n",
       "      dtype='object')"
      ]
     },
     "execution_count": 44,
     "metadata": {},
     "output_type": "execute_result"
    }
   ],
   "source": [
    "# Authenticate the Results\n",
    "df_houseprice.columns"
   ]
  },
  {
   "cell_type": "markdown",
   "id": "a49fbff7-55c6-4baf-8ab8-2dc0296e90c0",
   "metadata": {},
   "source": [
    "### b. Null Value Handling"
   ]
  },
  {
   "cell_type": "raw",
   "id": "90bd1f2a-8bf2-4a7d-baab-11b91fdbc09d",
   "metadata": {},
   "source": [
    "Laws that we need to follow while processing the Null Value(Specially for Manufacturing)\n",
    " - When we have less than 15% data is missing -> Remove the observations(rows)\n",
    " - When we have between 20-70% data is missing -> Impute the Null values\n",
    " - When we have more than 75% data is missing -> Remove the column"
   ]
  },
  {
   "cell_type": "code",
   "execution_count": 50,
   "id": "802d8734-9c41-4c3b-b4d3-58ebcd80891e",
   "metadata": {},
   "outputs": [
    {
     "data": {
      "text/plain": [
       "Price                              0\n",
       "Residential_Area                   0\n",
       "Air_Quality                        0\n",
       "Room_Numbers                       0\n",
       "Age                                0\n",
       "Distance                           0\n",
       "Teachers                           0\n",
       "Proportion_Of_Poor_Population      0\n",
       "Airport                            0\n",
       "Number_Of_Hospital_Beds            8\n",
       "Number_Of_Hotel_Rooms              0\n",
       "Waterbody                        155\n",
       "Rainfall                           0\n",
       "Bus_Terminal                       0\n",
       "Parks                              0\n",
       "Sold                               0\n",
       "dtype: int64"
      ]
     },
     "execution_count": 50,
     "metadata": {},
     "output_type": "execute_result"
    }
   ],
   "source": [
    "# Find the valid Null Values\n",
    "df_houseprice.isnull().sum()"
   ]
  },
  {
   "cell_type": "code",
   "execution_count": 54,
   "id": "66ca5c94-20fe-49a1-94b8-4c386cbf4e1f",
   "metadata": {},
   "outputs": [
    {
     "data": {
      "text/plain": [
       "Price                             0.000\n",
       "Residential_Area                  0.000\n",
       "Air_Quality                       0.000\n",
       "Room_Numbers                      0.000\n",
       "Age                               0.000\n",
       "Distance                          0.000\n",
       "Teachers                          0.000\n",
       "Proportion_Of_Poor_Population     0.000\n",
       "Airport                           0.000\n",
       "Number_Of_Hospital_Beds           1.581\n",
       "Number_Of_Hotel_Rooms             0.000\n",
       "Waterbody                        30.632\n",
       "Rainfall                          0.000\n",
       "Bus_Terminal                      0.000\n",
       "Parks                             0.000\n",
       "Sold                              0.000\n",
       "dtype: float64"
      ]
     },
     "execution_count": 54,
     "metadata": {},
     "output_type": "execute_result"
    }
   ],
   "source": [
    "# Percentage missing value\n",
    "round((df_houseprice.isnull().sum())/len(df_houseprice)*100,3)"
   ]
  },
  {
   "cell_type": "code",
   "execution_count": 56,
   "id": "11f19c13-d946-43d9-8edb-efe528d13951",
   "metadata": {},
   "outputs": [
    {
     "name": "stdout",
     "output_type": "stream",
     "text": [
      "<class 'pandas.core.frame.DataFrame'>\n",
      "RangeIndex: 506 entries, 0 to 505\n",
      "Data columns (total 16 columns):\n",
      " #   Column                         Non-Null Count  Dtype  \n",
      "---  ------                         --------------  -----  \n",
      " 0   Price                          506 non-null    float64\n",
      " 1   Residential_Area               506 non-null    float64\n",
      " 2   Air_Quality                    506 non-null    float64\n",
      " 3   Room_Numbers                   506 non-null    float64\n",
      " 4   Age                            506 non-null    float64\n",
      " 5   Distance                       506 non-null    float64\n",
      " 6   Teachers                       506 non-null    float64\n",
      " 7   Proportion_Of_Poor_Population  506 non-null    float64\n",
      " 8   Airport                        506 non-null    object \n",
      " 9   Number_Of_Hospital_Beds        498 non-null    float64\n",
      " 10  Number_Of_Hotel_Rooms          506 non-null    float64\n",
      " 11  Waterbody                      351 non-null    object \n",
      " 12  Rainfall                       506 non-null    int64  \n",
      " 13  Bus_Terminal                   506 non-null    object \n",
      " 14  Parks                          506 non-null    float64\n",
      " 15  Sold                           506 non-null    int64  \n",
      "dtypes: float64(11), int64(2), object(3)\n",
      "memory usage: 63.4+ KB\n"
     ]
    }
   ],
   "source": [
    "# Find the nature of the column\n",
    "df_houseprice.info()"
   ]
  },
  {
   "cell_type": "code",
   "execution_count": 58,
   "id": "149a82ec-eab0-4919-ba38-d1651f05f36e",
   "metadata": {},
   "outputs": [
    {
     "data": {
      "text/plain": [
       "0    River\n",
       "Name: Waterbody, dtype: object"
      ]
     },
     "execution_count": 58,
     "metadata": {},
     "output_type": "execute_result"
    }
   ],
   "source": [
    "# This is a categorical column so we can replace the null with mode.\n",
    "df_houseprice.Waterbody.mode()"
   ]
  },
  {
   "cell_type": "code",
   "execution_count": 60,
   "id": "e41f7bf3-6f44-4acf-9aab-474a9ffad8aa",
   "metadata": {},
   "outputs": [],
   "source": [
    "# Replace the null in that column\n",
    "df_houseprice.Waterbody = df_houseprice.Waterbody.fillna('River')"
   ]
  },
  {
   "cell_type": "code",
   "execution_count": 62,
   "id": "a49405cf-5e0b-4261-afcd-e83533e2ff7f",
   "metadata": {},
   "outputs": [
    {
     "data": {
      "text/plain": [
       "Price                            0.000\n",
       "Residential_Area                 0.000\n",
       "Air_Quality                      0.000\n",
       "Room_Numbers                     0.000\n",
       "Age                              0.000\n",
       "Distance                         0.000\n",
       "Teachers                         0.000\n",
       "Proportion_Of_Poor_Population    0.000\n",
       "Airport                          0.000\n",
       "Number_Of_Hospital_Beds          1.581\n",
       "Number_Of_Hotel_Rooms            0.000\n",
       "Waterbody                        0.000\n",
       "Rainfall                         0.000\n",
       "Bus_Terminal                     0.000\n",
       "Parks                            0.000\n",
       "Sold                             0.000\n",
       "dtype: float64"
      ]
     },
     "execution_count": 62,
     "metadata": {},
     "output_type": "execute_result"
    }
   ],
   "source": [
    "# Percentage missing value\n",
    "round((df_houseprice.isnull().sum())/len(df_houseprice)*100,3)"
   ]
  },
  {
   "cell_type": "code",
   "execution_count": 64,
   "id": "02d03fc4-490b-4f3c-989d-a93d93db49c6",
   "metadata": {},
   "outputs": [],
   "source": [
    "# In Number_Of_Hospital_Beds contain less than 10% values so we can drop null values\n",
    "df_houseprice.dropna(inplace=True)"
   ]
  },
  {
   "cell_type": "code",
   "execution_count": 66,
   "id": "513c841d-578a-4bcd-9f09-61d941eefe66",
   "metadata": {},
   "outputs": [
    {
     "data": {
      "text/plain": [
       "Price                            0.0\n",
       "Residential_Area                 0.0\n",
       "Air_Quality                      0.0\n",
       "Room_Numbers                     0.0\n",
       "Age                              0.0\n",
       "Distance                         0.0\n",
       "Teachers                         0.0\n",
       "Proportion_Of_Poor_Population    0.0\n",
       "Airport                          0.0\n",
       "Number_Of_Hospital_Beds          0.0\n",
       "Number_Of_Hotel_Rooms            0.0\n",
       "Waterbody                        0.0\n",
       "Rainfall                         0.0\n",
       "Bus_Terminal                     0.0\n",
       "Parks                            0.0\n",
       "Sold                             0.0\n",
       "dtype: float64"
      ]
     },
     "execution_count": 66,
     "metadata": {},
     "output_type": "execute_result"
    }
   ],
   "source": [
    "# Percentage missing value\n",
    "round((df_houseprice.isnull().sum())/len(df_houseprice)*100,3)"
   ]
  },
  {
   "cell_type": "code",
   "execution_count": null,
   "id": "b8471e12-4f24-4d75-b561-7b57e22b3933",
   "metadata": {},
   "outputs": [],
   "source": []
  }
 ],
 "metadata": {
  "kernelspec": {
   "display_name": "Python 3 (ipykernel)",
   "language": "python",
   "name": "python3"
  },
  "language_info": {
   "codemirror_mode": {
    "name": "ipython",
    "version": 3
   },
   "file_extension": ".py",
   "mimetype": "text/x-python",
   "name": "python",
   "nbconvert_exporter": "python",
   "pygments_lexer": "ipython3",
   "version": "3.12.4"
  }
 },
 "nbformat": 4,
 "nbformat_minor": 5
}
